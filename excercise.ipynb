{
 "metadata": {
  "name": "excercise"
 },
 "nbformat": 3,
 "nbformat_minor": 0,
 "worksheets": [
  {
   "cells": [
    {
     "cell_type": "code",
     "collapsed": false,
     "input": [
      "%pylab inline"
     ],
     "language": "python",
     "metadata": {},
     "outputs": [
      {
       "output_type": "stream",
       "stream": "stdout",
       "text": [
        "\n",
        "Welcome to pylab, a matplotlib-based Python environment [backend: module://IPython.zmq.pylab.backend_inline].\n",
        "For more information, type 'help(pylab)'.\n"
       ]
      }
     ],
     "prompt_number": 29
    },
    {
     "cell_type": "code",
     "collapsed": false,
     "input": [
      "# downloading mini_newsgroups\n",
      "import os\n",
      "import urllib\n",
      "import tarfile\n",
      "\n",
      "if not os.path.exists('mini_newsgroups.tar.gz'):\n",
      "    urllib.urlretrieve(\"http://kdd.ics.uci.edu/databases/20newsgroups/mini_newsgroups.tar.gz\", \"mini_newsgroups.tar.gz\")\n",
      "\n",
      "if not os.path.isdir(\"mini_newsgroups/\"):\n",
      "    tarfile.open(\"mini_newsgroups.tar.gz\", 'r:gz').extractall()"
     ],
     "language": "python",
     "metadata": {},
     "outputs": [],
     "prompt_number": 26
    },
    {
     "cell_type": "code",
     "collapsed": false,
     "input": [
      "import os\n",
      "doc_list = []\n",
      "y = []\n",
      "labels = os.listdir('mini_newsgroups')\n",
      "for (i, label) in enumerate(labels):\n",
      "    for fname in os.listdir(\"mini_newsgroups/%s\" % label):\n",
      "        with open('mini_newsgroups/%s/%s' % (label, fname)) as f:\n",
      "            y.append(i)\n",
      "            doc_list.append(f.read())\n",
      "\n",
      "y = np.array(y)"
     ],
     "language": "python",
     "metadata": {},
     "outputs": [],
     "prompt_number": 31
    },
    {
     "cell_type": "code",
     "collapsed": false,
     "input": [
      "from sklearn.feature_extraction.text import TfidfVectorizer\n",
      "\n",
      "tfidf_vectorizer = TfidfVectorizer(min_df = 1, decode_error=\"ignore\")\n",
      "tfidf_matrix = tfidf_vectorizer.fit_transform(doc_list)"
     ],
     "language": "python",
     "metadata": {},
     "outputs": [],
     "prompt_number": 32
    }
   ],
   "metadata": {}
  }
 ]
}