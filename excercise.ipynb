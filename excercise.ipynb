{
 "metadata": {
  "name": "excercise"
 },
 "nbformat": 3,
 "nbformat_minor": 0,
 "worksheets": [
  {
   "cells": [
    {
     "cell_type": "code",
     "collapsed": false,
     "input": [
      "%pylab inline "
     ],
     "language": "python",
     "metadata": {},
     "outputs": [
      {
       "output_type": "stream",
       "stream": "stdout",
       "text": [
        "\n",
        "Welcome to pylab, a matplotlib-based Python environment [backend: module://IPython.zmq.pylab.backend_inline].\n",
        "For more information, type 'help(pylab)'.\n"
       ]
      }
     ],
     "prompt_number": 30
    },
    {
     "cell_type": "code",
     "collapsed": false,
     "input": [
      "# downloading mini_newsgroups\n",
      "import os\n",
      "import urllib\n",
      "import tarfile\n",
      "\n",
      "if not os.path.exists('mini_newsgroups.tar.gz'):\n",
      "    urllib.urlretrieve(\"http://kdd.ics.uci.edu/databases/20newsgroups/mini_newsgroups.tar.gz\", \"mini_newsgroups.tar.gz\")\n",
      "\n",
      "if not os.path.isdir(\"mini_newsgroups/\"):\n",
      "    tarfile.open(\"mini_newsgroups.tar.gz\", 'r:gz').extractall()"
     ],
     "language": "python",
     "metadata": {},
     "outputs": [],
     "prompt_number": 31
    },
    {
     "cell_type": "code",
     "collapsed": false,
     "input": [
      "# load\n",
      "import os\n",
      "doc_list = []\n",
      "y = []\n",
      "uniq_y = []\n",
      "labels = os.listdir('mini_newsgroups')\n",
      "for (i, label) in enumerate(labels):\n",
      "    uniq_y.append(i)\n",
      "    for fname in os.listdir(\"mini_newsgroups/%s\" % label):\n",
      "        with open('mini_newsgroups/%s/%s' % (label, fname)) as f:\n",
      "            y.append(i)\n",
      "            doc_list.append(f.read())\n",
      "\n",
      "y = np.array(y)\n",
      "doc_list[0]\n",
      "print labels\n",
      "print uniq_y"
     ],
     "language": "python",
     "metadata": {},
     "outputs": [
      {
       "output_type": "stream",
       "stream": "stdout",
       "text": [
        "['rec.autos', 'rec.motorcycles', 'comp.sys.mac.hardware', 'rec.sport.baseball', 'comp.sys.ibm.pc.hardware', 'talk.politics.misc', 'misc.forsale', 'sci.electronics', 'sci.med', 'rec.sport.hockey', 'talk.politics.guns', 'sci.crypt', 'talk.religion.misc', 'alt.atheism', 'comp.os.ms-windows.misc', 'comp.windows.x', 'talk.politics.mideast', 'sci.space', 'soc.religion.christian', 'comp.graphics']\n",
        "[0, 1, 2, 3, 4, 5, 6, 7, 8, 9, 10, 11, 12, 13, 14, 15, 16, 17, 18, 19]\n"
       ]
      }
     ],
     "prompt_number": 56
    },
    {
     "cell_type": "code",
     "collapsed": false,
     "input": [
      "#create tf-idf matrix\n",
      "from sklearn.feature_extraction.text import TfidfVectorizer\n",
      "\n",
      "tfidf_vectorizer = TfidfVectorizer(min_df = 1, decode_error=\"replace\")\n",
      "tfidf_matrix = tfidf_vectorizer.fit_transform(doc_list)"
     ],
     "language": "python",
     "metadata": {},
     "outputs": [],
     "prompt_number": 33
    },
    {
     "cell_type": "code",
     "collapsed": false,
     "input": [
      "from sklearn import cross_validation\n",
      "X_train, X_test, y_train, y_test = cross_validation.train_test_split(tfidf_matrix, y)\n",
      "print y_train.shape\n",
      "print y[400]\n",
      "print X_train.shape"
     ],
     "language": "python",
     "metadata": {},
     "outputs": [
      {
       "output_type": "stream",
       "stream": "stdout",
       "text": [
        "(1500,)\n",
        "4\n",
        "(1500, 50644)\n"
       ]
      }
     ],
     "prompt_number": 54
    },
    {
     "cell_type": "code",
     "collapsed": false,
     "input": [
      "from sklearn.naive_bayes import MultinomialNB\n",
      "from sklearn.neighbors import KNeighborsClassifier\n",
      "from sklearn.svm import LinearSVC\n",
      "\n",
      "classifier1 = MultinomialNB().fit(X_train, y_train)\n",
      "print classifier1.score(X_test, y_test)\n",
      "\n",
      "#classifier2 = KNeighborsClassifier(metric=\"cosine\", algorithm=\"kd_tree\").fit(X_train, y_train)\n",
      "classifier2 = KNeighborsClassifier().fit(X_train, y_train)\n",
      "print classifier2.score(X_test, y_test)\n",
      "\n",
      "classifier3 = LinearSVC().fit(X_train, y_train)\n",
      "print classifier3.score(X_test, y_test)\n",
      "print X_train[1,:].shape\n",
      "print y_train.shape"
     ],
     "language": "python",
     "metadata": {},
     "outputs": [],
     "prompt_number": "*"
    },
    {
     "cell_type": "code",
     "collapsed": false,
     "input": [
      "# PCA\n",
      "from sklearn.decomposition import PCA\n",
      "X = tfidf_matrix.todense()\n",
      "pca = PCA().fit(X)"
     ],
     "language": "python",
     "metadata": {},
     "outputs": [
      {
       "ename": "ValueError",
       "evalue": "Metric 'cosine' not valid for algorithm 'kd_tree'",
       "output_type": "pyerr",
       "traceback": [
        "\u001b[0;31m---------------------------------------------------------------------------\u001b[0m\n\u001b[0;31mValueError\u001b[0m                                Traceback (most recent call last)",
        "\u001b[0;32m<ipython-input-62-267bf07c1e32>\u001b[0m in \u001b[0;36m<module>\u001b[0;34m()\u001b[0m\n\u001b[1;32m      5\u001b[0m \u001b[0mX_train\u001b[0m\u001b[0;34m,\u001b[0m \u001b[0mX_test\u001b[0m\u001b[0;34m,\u001b[0m \u001b[0my_train\u001b[0m\u001b[0;34m,\u001b[0m \u001b[0my_test\u001b[0m \u001b[0;34m=\u001b[0m \u001b[0mcross_validation\u001b[0m\u001b[0;34m.\u001b[0m\u001b[0mtrain_test_split\u001b[0m\u001b[0;34m(\u001b[0m\u001b[0mX_pca\u001b[0m\u001b[0;34m,\u001b[0m \u001b[0my\u001b[0m\u001b[0;34m)\u001b[0m\u001b[0;34m\u001b[0m\u001b[0m\n\u001b[1;32m      6\u001b[0m \u001b[0;34m\u001b[0m\u001b[0m\n\u001b[0;32m----> 7\u001b[0;31m \u001b[0mclassifier2\u001b[0m \u001b[0;34m=\u001b[0m \u001b[0mKNeighborsClassifier\u001b[0m\u001b[0;34m(\u001b[0m\u001b[0mmetric\u001b[0m\u001b[0;34m=\u001b[0m\u001b[0;34m\"cosine\"\u001b[0m\u001b[0;34m,\u001b[0m \u001b[0malgorithm\u001b[0m\u001b[0;34m=\u001b[0m\u001b[0;34m\"kd_tree\"\u001b[0m\u001b[0;34m)\u001b[0m\u001b[0;34m.\u001b[0m\u001b[0mfit\u001b[0m\u001b[0;34m(\u001b[0m\u001b[0mX_train\u001b[0m\u001b[0;34m,\u001b[0m \u001b[0my_train\u001b[0m\u001b[0;34m)\u001b[0m\u001b[0;34m\u001b[0m\u001b[0m\n\u001b[0m\u001b[1;32m      8\u001b[0m \u001b[0;32mprint\u001b[0m \u001b[0mclassifier2\u001b[0m\u001b[0;34m.\u001b[0m\u001b[0mscore\u001b[0m\u001b[0;34m(\u001b[0m\u001b[0mX_test\u001b[0m\u001b[0;34m,\u001b[0m \u001b[0my_test\u001b[0m\u001b[0;34m)\u001b[0m\u001b[0;34m\u001b[0m\u001b[0m\n\u001b[1;32m      9\u001b[0m \u001b[0;32mprint\u001b[0m \u001b[0mX_pca\u001b[0m\u001b[0;34m.\u001b[0m\u001b[0mshape\u001b[0m\u001b[0;34m\u001b[0m\u001b[0m\n",
        "\u001b[0;32m/usr/lib/python2.7/dist-packages/sklearn/neighbors/classification.pyc\u001b[0m in \u001b[0;36m__init__\u001b[0;34m(self, n_neighbors, weights, algorithm, leaf_size, p, metric, **kwargs)\u001b[0m\n\u001b[1;32m    126\u001b[0m         self._init_params(n_neighbors=n_neighbors,\n\u001b[1;32m    127\u001b[0m                           \u001b[0malgorithm\u001b[0m\u001b[0;34m=\u001b[0m\u001b[0malgorithm\u001b[0m\u001b[0;34m,\u001b[0m\u001b[0;34m\u001b[0m\u001b[0m\n\u001b[0;32m--> 128\u001b[0;31m                           leaf_size=leaf_size, metric=metric, p=p, **kwargs)\n\u001b[0m\u001b[1;32m    129\u001b[0m         \u001b[0mself\u001b[0m\u001b[0;34m.\u001b[0m\u001b[0mweights\u001b[0m \u001b[0;34m=\u001b[0m \u001b[0m_check_weights\u001b[0m\u001b[0;34m(\u001b[0m\u001b[0mweights\u001b[0m\u001b[0;34m)\u001b[0m\u001b[0;34m\u001b[0m\u001b[0m\n\u001b[1;32m    130\u001b[0m \u001b[0;34m\u001b[0m\u001b[0m\n",
        "\u001b[0;32m/usr/lib/python2.7/dist-packages/sklearn/neighbors/base.pyc\u001b[0m in \u001b[0;36m_init_params\u001b[0;34m(self, n_neighbors, radius, algorithm, leaf_size, metric, p, **kwargs)\u001b[0m\n\u001b[1;32m    125\u001b[0m         \u001b[0;32melif\u001b[0m \u001b[0mmetric\u001b[0m \u001b[0;32mnot\u001b[0m \u001b[0;32min\u001b[0m \u001b[0mVALID_METRICS\u001b[0m\u001b[0;34m[\u001b[0m\u001b[0malg_check\u001b[0m\u001b[0;34m]\u001b[0m\u001b[0;34m:\u001b[0m\u001b[0;34m\u001b[0m\u001b[0m\n\u001b[1;32m    126\u001b[0m             raise ValueError(\"Metric '%s' not valid for algorithm '%s'\"\n\u001b[0;32m--> 127\u001b[0;31m                              % (metric, algorithm))\n\u001b[0m\u001b[1;32m    128\u001b[0m \u001b[0;34m\u001b[0m\u001b[0m\n\u001b[1;32m    129\u001b[0m         \u001b[0;32mif\u001b[0m \u001b[0mself\u001b[0m\u001b[0;34m.\u001b[0m\u001b[0mmetric\u001b[0m \u001b[0;32min\u001b[0m \u001b[0;34m[\u001b[0m\u001b[0;34m'wminkowski'\u001b[0m\u001b[0;34m,\u001b[0m \u001b[0;34m'minkowski'\u001b[0m\u001b[0;34m]\u001b[0m\u001b[0;34m:\u001b[0m\u001b[0;34m\u001b[0m\u001b[0m\n",
        "\u001b[0;31mValueError\u001b[0m: Metric 'cosine' not valid for algorithm 'kd_tree'"
       ]
      }
     ],
     "prompt_number": 62
    },
    {
     "cell_type": "code",
     "collapsed": false,
     "input": [
      "X_pca = pca.transform(X)\n",
      "X_train, X_test, y_train, y_test = cross_validation.train_test_split(X_pca, y)\n",
      "\n",
      "classifier2 = KNeighborsClassifier(metric=\"cosine\", algorithm=\"kd_tree\").fit(X_train, y_train)\n",
      "print classifier2.score(X_test, y_test)\n",
      "print X_pca.shape"
     ],
     "language": "python",
     "metadata": {},
     "outputs": [],
     "prompt_number": "*"
    },
    {
     "cell_type": "code",
     "collapsed": false,
     "input": [
      "document_distances = (X_train * X_train.T)\n",
      "print X_train.shape\n",
      "print document_distances.shape\n",
      "document_distances[1,2]\n",
      "\n",
      "from sklearn.metrics.pairwise import linear_kernel\n",
      "cosine_similarities = linear_kernel(tfidf_matrix[2,:], tfidf_matrix).flatten() # let's look at similarity to the very first document\n",
      "related_docs_indices = cosine_similarities.argsort()[:-len(doc_list)-1:-1] #what is the order of most to least similar?\n",
      "\n",
      "\n",
      "print y[related_docs_indices[0:10]]\n",
      "print cosine_similarities[related_docs_indices] # what are the cosine distances?"
     ],
     "language": "python",
     "metadata": {},
     "outputs": [
      {
       "output_type": "stream",
       "stream": "stdout",
       "text": [
        "(1500, 50644)\n",
        "(1500, 1500)\n",
        "[ 0  0  0  0  5  0  0  5 11 18]\n",
        "[ 1.          0.23625337  0.18393705 ...,  0.00819934  0.00716811\n",
        "  0.00331452]\n"
       ]
      }
     ],
     "prompt_number": 59
    }
   ],
   "metadata": {}
  }
 ]
}